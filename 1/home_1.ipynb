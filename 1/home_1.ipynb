{
 "cells": [
  {
   "cell_type": "markdown",
   "id": "0f184bfd",
   "metadata": {},
   "source": [
    "Напишите программу, которая считывает число n с клавиатуры и распечатывает квадрат размера n×n из звездочек."
   ]
  },
  {
   "cell_type": "code",
   "execution_count": 4,
   "id": "90442646",
   "metadata": {},
   "outputs": [
    {
     "name": "stdout",
     "output_type": "stream",
     "text": [
      "10\n",
      "**********\n",
      "**********\n",
      "**********\n",
      "**********\n",
      "**********\n",
      "**********\n",
      "**********\n",
      "**********\n",
      "**********\n",
      "**********\n"
     ]
    }
   ],
   "source": [
    "def row(n):\n",
    "    if n > 0:\n",
    "        print('*', end='')\n",
    "        row(n-1)\n",
    "\n",
    "def rep(a, b):\n",
    "    if a > 0:\n",
    "        row(b)\n",
    "        print()\n",
    "        rep(a-1, b)\n",
    "\n",
    "x = int(input())\n",
    "rep(x, x)"
   ]
  },
  {
   "cell_type": "code",
   "execution_count": null,
   "id": "46a51c4c",
   "metadata": {},
   "outputs": [],
   "source": []
  }
 ],
 "metadata": {
  "kernelspec": {
   "display_name": "Python 3 (ipykernel)",
   "language": "python",
   "name": "python3"
  },
  "language_info": {
   "codemirror_mode": {
    "name": "ipython",
    "version": 3
   },
   "file_extension": ".py",
   "mimetype": "text/x-python",
   "name": "python",
   "nbconvert_exporter": "python",
   "pygments_lexer": "ipython3",
   "version": "3.9.7"
  }
 },
 "nbformat": 4,
 "nbformat_minor": 5
}
