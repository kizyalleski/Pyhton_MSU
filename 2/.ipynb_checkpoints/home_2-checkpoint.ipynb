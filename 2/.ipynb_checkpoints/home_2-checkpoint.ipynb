{
 "cells": [
  {
   "cell_type": "markdown",
   "id": "66f54458",
   "metadata": {},
   "source": [
    "Задана строка s состоящая из символов. Необходимо посчитать их количество ∣s∣. Стандартный ввод (с клавиатуры). "
   ]
  },
  {
   "cell_type": "code",
   "execution_count": 6,
   "id": "ea7270d6",
   "metadata": {},
   "outputs": [
    {
     "name": "stdout",
     "output_type": "stream",
     "text": [
      "fbv edfhju 73\n",
      "13\n"
     ]
    }
   ],
   "source": [
    "print(len(input()))"
   ]
  },
  {
   "cell_type": "code",
   "execution_count": null,
   "id": "8faff632",
   "metadata": {},
   "outputs": [],
   "source": [
    "Задана строка s состоящая из символов. Необходимо посчитать их количество ∣s∣. Ввод из файла."
   ]
  },
  {
   "cell_type": "code",
   "execution_count": 16,
   "id": "4389987f",
   "metadata": {},
   "outputs": [
    {
     "name": "stdout",
     "output_type": "stream",
     "text": [
      "24\n"
     ]
    }
   ],
   "source": [
    "file = open('input.txt')\n",
    "n = file.read()\n",
    "file.close()\n",
    "print(len(n))"
   ]
  },
  {
   "cell_type": "markdown",
   "id": "d3e6d918",
   "metadata": {},
   "source": [
    "Измените порядок символов в строке s на обратный."
   ]
  },
  {
   "cell_type": "code",
   "execution_count": 50,
   "id": "946f987a",
   "metadata": {},
   "outputs": [
    {
     "name": "stdout",
     "output_type": "stream",
     "text": [
      "Hello World\n",
      "dlroW olleH\n"
     ]
    }
   ],
   "source": [
    "i = input()\n",
    "print(i[len(i):-len(i)-1:-1])"
   ]
  },
  {
   "cell_type": "markdown",
   "id": "38b7529b",
   "metadata": {},
   "source": [
    "Найдите подстроку s′ заключенную в двойных кавычках в строке s.\n",
    "Гарантируется, что такая подстрока существует и притом единственна.\n",
    "Двойные кавычки в результат включать не нужно."
   ]
  },
  {
   "cell_type": "code",
   "execution_count": 68,
   "id": "bca88fdb",
   "metadata": {},
   "outputs": [
    {
     "name": "stdout",
     "output_type": "stream",
     "text": [
      "hello\"hello\"hello\n",
      "hello\n"
     ]
    }
   ],
   "source": [
    "i = input()\n",
    "first_index = i.find('\"')\n",
    "second_index = i.find('\"', first_index + 1)\n",
    "print(i[first_index + 1 : second_index])"
   ]
  },
  {
   "cell_type": "markdown",
   "id": "7b98b582",
   "metadata": {},
   "source": [
    "В строке записаны два числа, разделенные пробелом. Поменяйте их местами и напечатайте результат."
   ]
  },
  {
   "cell_type": "code",
   "execution_count": 118,
   "id": "4d4d4c6f",
   "metadata": {},
   "outputs": [
    {
     "name": "stdout",
     "output_type": "stream",
     "text": [
      "Maxim Uspensky\n",
      "Uspensky Maxim\n"
     ]
    }
   ],
   "source": [
    "i = input()\n",
    "i1 = i[i.find(' ')+1 : len(i)]\n",
    "i2 = i[-len(i) : i.find(' ')]\n",
    "print(i1, i2, sep=' ')"
   ]
  },
  {
   "cell_type": "markdown",
   "id": "91881713",
   "metadata": {},
   "source": [
    "Из почтового адреса нужно достать логин.\n",
    "Логин - это текст, который указывается в почтовом адресе до символа '@'.\n",
    "Символ '@' не относится к логину.\n",
    "Длина логина может быть любой (не обязательно 4 символа)."
   ]
  },
  {
   "cell_type": "code",
   "execution_count": 119,
   "id": "c634091e",
   "metadata": {},
   "outputs": [
    {
     "name": "stdout",
     "output_type": "stream",
     "text": [
      "kizyalleski@gmail.com\n",
      "kizyalleski\n"
     ]
    }
   ],
   "source": [
    "i = input()\n",
    "print(i[-len(i) : i.find('@')])"
   ]
  },
  {
   "cell_type": "markdown",
   "id": "b0e30310",
   "metadata": {},
   "source": [
    "Человек вводит на сайте номер телефона, ему позволено для удобства использовать кроме плюса и цифр знаки ‘-’, ‘)’, ‘(’ и пробелы. Уберите их из ввода."
   ]
  },
  {
   "cell_type": "code",
   "execution_count": 133,
   "id": "96f45cb8",
   "metadata": {
    "scrolled": true
   },
   "outputs": [
    {
     "name": "stdout",
     "output_type": "stream",
     "text": [
      "43 rtrt379g  73-2()\n",
      "43rtrt379g732\n"
     ]
    }
   ],
   "source": [
    "i = input()\n",
    "print(i.replace('-', '').replace(' ', '').replace(')', '').replace('(', ''))"
   ]
  }
 ],
 "metadata": {
  "kernelspec": {
   "display_name": "Python 3 (ipykernel)",
   "language": "python",
   "name": "python3"
  },
  "language_info": {
   "codemirror_mode": {
    "name": "ipython",
    "version": 3
   },
   "file_extension": ".py",
   "mimetype": "text/x-python",
   "name": "python",
   "nbconvert_exporter": "python",
   "pygments_lexer": "ipython3",
   "version": "3.9.7"
  }
 },
 "nbformat": 4,
 "nbformat_minor": 5
}
