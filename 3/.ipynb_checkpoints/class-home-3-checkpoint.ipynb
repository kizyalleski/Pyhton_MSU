{
 "cells": [
  {
   "cell_type": "markdown",
   "id": "1fda18c8",
   "metadata": {},
   "source": [
    "МНОЖЕСТВЕННОЕ ПРИСВОЕНИЕ:"
   ]
  },
  {
   "cell_type": "markdown",
   "id": "28d3d26b",
   "metadata": {},
   "source": [
    "трамвайное множественное присвоение:"
   ]
  },
  {
   "cell_type": "code",
   "execution_count": 1,
   "id": "d6bbedae",
   "metadata": {},
   "outputs": [
    {
     "name": "stdout",
     "output_type": "stream",
     "text": [
      "5 5 5\n"
     ]
    }
   ],
   "source": [
    "a = b = c = 5\n",
    "print(a, b, c)"
   ]
  },
  {
   "cell_type": "code",
   "execution_count": null,
   "id": "b4c0086a",
   "metadata": {},
   "outputs": [],
   "source": [
    "множественное присвоение в кортеж имен:"
   ]
  },
  {
   "cell_type": "code",
   "execution_count": 2,
   "id": "c5b3c752",
   "metadata": {},
   "outputs": [
    {
     "name": "stdout",
     "output_type": "stream",
     "text": [
      "1 2 3\n"
     ]
    }
   ],
   "source": [
    "a, b, c = 1, 2, 3\n",
    "print(a, b, c)"
   ]
  },
  {
   "cell_type": "code",
   "execution_count": 3,
   "id": "d5466a0c",
   "metadata": {},
   "outputs": [
    {
     "data": {
      "text/plain": [
       "tuple"
      ]
     },
     "execution_count": 3,
     "metadata": {},
     "output_type": "execute_result"
    }
   ],
   "source": [
    "A = 1, 2, 3\n",
    "type(A)"
   ]
  },
  {
   "cell_type": "code",
   "execution_count": 7,
   "id": "69e16cce",
   "metadata": {},
   "outputs": [
    {
     "name": "stdout",
     "output_type": "stream",
     "text": [
      "a b c d\n",
      "['e', 'f', 'g', 'h', 'i', 'j', 'k', 'l', 'm', 'n', 'o', 'p']\n"
     ]
    }
   ],
   "source": [
    "a, b, c, d, *rest = 'abcdefghijklmnop' # символ '*' обозначает распаковку\n",
    "print(a, b, c, d)\n",
    "print(rest)"
   ]
  },
  {
   "cell_type": "markdown",
   "id": "2dea1cfa",
   "metadata": {},
   "source": [
    "пробежать кортежем переменных по списку значений:"
   ]
  },
  {
   "cell_type": "code",
   "execution_count": 16,
   "id": "a7a5765d",
   "metadata": {},
   "outputs": [
    {
     "name": "stdout",
     "output_type": "stream",
     "text": [
      "А\tБ\tВ\n",
      "Г\tД\tЕ\n",
      "Ё\tЖ\tЗ\n"
     ]
    }
   ],
   "source": [
    "for a, b, c in 'АБВ', 'ГДЕ', 'ЁЖЗ':\n",
    "    print(a, b , c, sep='\\t')"
   ]
  },
  {
   "cell_type": "markdown",
   "id": "430ecd72",
   "metadata": {},
   "source": [
    "ТИП LIST\n",
    "конструирование списка:"
   ]
  },
  {
   "cell_type": "code",
   "execution_count": 23,
   "id": "93ccb8f5",
   "metadata": {},
   "outputs": [
    {
     "name": "stdout",
     "output_type": "stream",
     "text": [
      "[1, 2, 3, 4, 5]\n"
     ]
    }
   ],
   "source": [
    "a = [1, 2, 3, 4, 5]\n",
    "print(a)"
   ]
  },
  {
   "cell_type": "code",
   "execution_count": 26,
   "id": "f7c4e2f7",
   "metadata": {},
   "outputs": [
    {
     "name": "stdout",
     "output_type": "stream",
     "text": [
      "['a', 'b', 'c', 'd', 'e']\n"
     ]
    }
   ],
   "source": [
    "b = list('abcde')\n",
    "print(b)"
   ]
  },
  {
   "cell_type": "code",
   "execution_count": 39,
   "id": "a175b62e",
   "metadata": {},
   "outputs": [
    {
     "name": "stdout",
     "output_type": "stream",
     "text": [
      "abcde\n"
     ]
    }
   ],
   "source": [
    "c = ''.join(b)\n",
    "print(c)"
   ]
  },
  {
   "cell_type": "code",
   "execution_count": 42,
   "id": "8aac39ea",
   "metadata": {},
   "outputs": [
    {
     "name": "stdout",
     "output_type": "stream",
     "text": [
      "a---b---c---d---e -abcde-abcde-\n"
     ]
    }
   ],
   "source": [
    "d = '---'.join(c)\n",
    "e = c.join('---')\n",
    "print(d, e)"
   ]
  },
  {
   "cell_type": "markdown",
   "id": "8e714ad8",
   "metadata": {},
   "source": [
    "Разрезать строку по пробелам:"
   ]
  },
  {
   "cell_type": "code",
   "execution_count": 49,
   "id": "18e9042d",
   "metadata": {},
   "outputs": [
    {
     "name": "stdout",
     "output_type": "stream",
     "text": [
      "['Кто не работает', ' тот не ест']\n",
      " тот не ест\n"
     ]
    },
    {
     "data": {
      "text/plain": [
       "str"
      ]
     },
     "execution_count": 49,
     "metadata": {},
     "output_type": "execute_result"
    }
   ],
   "source": [
    "c = 'Кто не работает, тот не ест'\n",
    "d = c.split(sep=',')\n",
    "print(d)\n",
    "print(d[1])\n",
    "type(d[1])"
   ]
  },
  {
   "cell_type": "markdown",
   "id": "686f7b72",
   "metadata": {},
   "source": [
    "Конкатенация списков и умножение списка на число:"
   ]
  },
  {
   "cell_type": "code",
   "execution_count": 53,
   "id": "a1f7f321",
   "metadata": {},
   "outputs": [
    {
     "name": "stdout",
     "output_type": "stream",
     "text": [
      "['1', '2', '3', '4', '5', '6', 'a', 'b', 'c', 'd', 'e', 'f']\n",
      "['1', '2', '3', '4', '5', '6', '1', '2', '3', '4', '5', '6', '1', '2', '3', '4', '5', '6']\n"
     ]
    }
   ],
   "source": [
    "a = list('123456')\n",
    "b = ['a', 'b', 'c', 'd', 'e', 'f']\n",
    "print(a + b)\n",
    "print(a * 3)"
   ]
  },
  {
   "cell_type": "markdown",
   "id": "196d3e56",
   "metadata": {},
   "source": [
    "разбить многострочную строку на строки:"
   ]
  },
  {
   "cell_type": "code",
   "execution_count": 63,
   "id": "9702cd0d",
   "metadata": {},
   "outputs": [
    {
     "name": "stdout",
     "output_type": "stream",
     "text": [
      "['Любовь долго терпит, милосердствует, любовь не завидует,', '          любовь не превозносится, не гордится, не бесчинствует, не ищет своего,', '          не раздражается, не мыслит зла, не радуется неправде, а сорадуется истине;', '          все покрывает, всему верит, всего надеется, все переносит.']\n"
     ]
    }
   ],
   "source": [
    "text = \"\"\"Любовь долго терпит, милосердствует, любовь не завидует,\n",
    "          любовь не превозносится, не гордится, не бесчинствует, не ищет своего,\n",
    "          не раздражается, не мыслит зла, не радуется неправде, а сорадуется истине;\n",
    "          все покрывает, всему верит, всего надеется, все переносит.\"\"\"\n",
    "lines = text.splitlines()\n",
    "print(lines)"
   ]
  },
  {
   "cell_type": "code",
   "execution_count": 64,
   "id": "b45d8f2b",
   "metadata": {},
   "outputs": [
    {
     "data": {
      "text/plain": [
       "['Любовь долго терпит, милосердствует, любовь не завидует,',\n",
       " 'любовь не превозносится, не гордится, не бесчинствует, не ищет своего,',\n",
       " 'не раздражается, не мыслит зла, не радуется неправде, а сорадуется истине;',\n",
       " 'все покрывает, всему верит, всего надеется, все переносит.']"
      ]
     },
     "execution_count": 64,
     "metadata": {},
     "output_type": "execute_result"
    }
   ],
   "source": [
    "stripped_lines = [line.strip() for line in lines]\n",
    "stripped_lines"
   ]
  },
  {
   "cell_type": "code",
   "execution_count": 65,
   "id": "c0b584f0",
   "metadata": {},
   "outputs": [
    {
     "data": {
      "text/plain": [
       "['Любовь долго терпит, милосердствует, любовь не завидует,',\n",
       " 'любовь не превозносится, не гордится, не бесчинствует, не ищет своего,']"
      ]
     },
     "execution_count": 65,
     "metadata": {},
     "output_type": "execute_result"
    }
   ],
   "source": [
    "filtered_lines = [line for line in stripped_lines if 'любовь' in line]\n",
    "filtered_lines"
   ]
  },
  {
   "cell_type": "code",
   "execution_count": 66,
   "id": "3cc35732",
   "metadata": {},
   "outputs": [
    {
     "data": {
      "text/plain": [
       "['любовь долго терпит, милосердствует, любовь не завидует,',\n",
       " 'любовь не превозносится, не гордится, не бесчинствует, не ищет своего,',\n",
       " 'не раздражается, не мыслит зла, не радуется неправде, а сорадуется истине;']"
      ]
     },
     "execution_count": 66,
     "metadata": {},
     "output_type": "execute_result"
    }
   ],
   "source": [
    "changed_and_filtered_lines = [line.lower() for line in stripped_lines if 'не' in line]\n",
    "changed_and_filtered_lines"
   ]
  },
  {
   "cell_type": "code",
   "execution_count": 67,
   "id": "5f0911d7",
   "metadata": {},
   "outputs": [
    {
     "name": "stdout",
     "output_type": "stream",
     "text": [
      "любовь долго терпит, милосердствует, любовь не завидует,\n",
      "любовь не превозносится, не гордится, не бесчинствует, не ищет своего,\n",
      "не раздражается, не мыслит зла, не радуется неправде, а сорадуется истине;\n"
     ]
    }
   ],
   "source": [
    "for line in changed_and_filtered_lines:\n",
    "    print(line)"
   ]
  },
  {
   "cell_type": "code",
   "execution_count": 69,
   "id": "743e1ecd",
   "metadata": {},
   "outputs": [
    {
     "name": "stdout",
     "output_type": "stream",
     "text": [
      "любовь долго терпит, милосердствует, любовь не завидует,\n",
      "любовь не превозносится, не гордится, не бесчинствует, не ищет своего,\n",
      "не раздражается, не мыслит зла, не радуется неправде, а сорадуется истине;\n"
     ]
    }
   ],
   "source": [
    "print(*changed_and_filtered_lines, sep='\\n')"
   ]
  },
  {
   "cell_type": "code",
   "execution_count": 79,
   "id": "46b02b0e",
   "metadata": {},
   "outputs": [
    {
     "data": {
      "text/plain": [
       "<filter at 0x2a12a8035e0>"
      ]
     },
     "execution_count": 79,
     "metadata": {},
     "output_type": "execute_result"
    }
   ],
   "source": [
    "filtered = filter(lambda s: 'не' in s, stripped_lines)"
   ]
  },
  {
   "cell_type": "code",
   "execution_count": 77,
   "id": "5a589223",
   "metadata": {},
   "outputs": [
    {
     "data": {
      "text/plain": [
       "True"
      ]
     },
     "execution_count": 77,
     "metadata": {},
     "output_type": "execute_result"
    }
   ],
   "source": []
  },
  {
   "cell_type": "code",
   "execution_count": null,
   "id": "a4f0d4e1",
   "metadata": {},
   "outputs": [],
   "source": []
  }
 ],
 "metadata": {
  "kernelspec": {
   "display_name": "Python 3 (ipykernel)",
   "language": "python",
   "name": "python3"
  },
  "language_info": {
   "codemirror_mode": {
    "name": "ipython",
    "version": 3
   },
   "file_extension": ".py",
   "mimetype": "text/x-python",
   "name": "python",
   "nbconvert_exporter": "python",
   "pygments_lexer": "ipython3",
   "version": "3.9.7"
  }
 },
 "nbformat": 4,
 "nbformat_minor": 5
}
