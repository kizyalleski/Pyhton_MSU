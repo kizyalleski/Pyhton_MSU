{
 "cells": [
  {
   "cell_type": "markdown",
   "id": "5de9c38d",
   "metadata": {},
   "source": [
    "Напишите программу, которая развернет все слова в строке, не меняя их порядка.\n",
    "Формат ввода: строка длиной s.\n",
    "Формат вывода: выведите строку, в которой каждое слово строки s будет написано задом-наперёд, но порядок слов в строке не поменяется.\n",
    "Примечания:\n",
    "1) Разрешается ввод только через input.txt.\n",
    "2) Вывод осуществляется на экран."
   ]
  },
  {
   "cell_type": "code",
   "execution_count": 33,
   "id": "27a24f91",
   "metadata": {},
   "outputs": [
    {
     "name": "stdout",
     "output_type": "stream",
     "text": [
      "ремирП икортс яаротВ акортс\n"
     ]
    }
   ],
   "source": [
    "f = open('input.txt', encoding='utf-8')\n",
    "text = f.read()\n",
    "f.close()\n",
    "\n",
    "words = text.split()\n",
    "\n",
    "def rev(x):\n",
    "    return(x[::-1])\n",
    "\n",
    "y = map(rev, words)\n",
    "\n",
    "new_words = list(y)\n",
    "new_string = ' '.join(new_words)\n",
    "\n",
    "print(new_string)"
   ]
  },
  {
   "cell_type": "markdown",
   "id": "426691eb",
   "metadata": {},
   "source": [
    "Напишите программу, которая будет искать строки в текстовом файле, в котором есть буква ё и выводить их на экран.\n",
    "Формат ввода: набор строк, часть из которых содержит букву ё (input.txt).\n",
    "Формат вывода: стандартный вывод или output.txt"
   ]
  },
  {
   "cell_type": "code",
   "execution_count": 52,
   "id": "08fa1426",
   "metadata": {},
   "outputs": [
    {
     "name": "stdout",
     "output_type": "stream",
     "text": [
      "В лесу родилась ёлочка\n",
      "Зелёная была\n"
     ]
    }
   ],
   "source": [
    "f = open('input.txt', encoding='utf-8')\n",
    "text = f.read()\n",
    "f.close()\n",
    "splitted_text = text.splitlines()\n",
    "filtered_text = [line for line in splitted_text if 'ё' in line] # line обозначает элемент списка\n",
    "for item in filtered_text:\n",
    "    print(item)"
   ]
  },
  {
   "cell_type": "markdown",
   "id": "ab0881af",
   "metadata": {},
   "source": [
    "Исключить каждое второе слово из текста.\n",
    "Формат ввода: дан набор строк (input.txt).\n",
    "Формат вывода: вывести строки, исключив каждое второе слово из каждой строчки текста (стандартный вывод или output.txt). Знак препинания, следующий за словом, которое будет удалено, удаляется вместе со словом."
   ]
  },
  {
   "cell_type": "code",
   "execution_count": 136,
   "id": "52fca8e4",
   "metadata": {},
   "outputs": [
    {
     "name": "stdout",
     "output_type": "stream",
     "text": [
      "Мне пришла\n",
      "стипендия это\n",
      "хорошо\n"
     ]
    }
   ],
   "source": [
    "f = open('input.txt', encoding='utf-8')\n",
    "text = f.readlines()\n",
    "f.close()\n",
    "for line in text:\n",
    "    line = line.split()\n",
    "    print(' '.join(line[0::2]))"
   ]
  },
  {
   "cell_type": "markdown",
   "id": "c545d93a",
   "metadata": {},
   "source": [
    "Дан текстовый файл input.txt, содержащий следующую информацию: в первой строке записано число N, в следующих N строках содержатся имена студентов, а в следующих N строках — их даты рождения. Выведите построчно информацию из этого файла и запишите в файл output.txt, при этом разделяйте имена и даты рождения при помощи специального символа табуляции '\\t'.\n",
    "Формат ввода: input.txt.\n",
    "Формат вывода: output.txt."
   ]
  },
  {
   "cell_type": "code",
   "execution_count": 16,
   "id": "37f77ac3",
   "metadata": {},
   "outputs": [
    {
     "name": "stdout",
     "output_type": "stream",
     "text": [
      "['3', 'Dania', 'Petya', 'Egor', '13', 'oct', '28', 'mar', '26', 'feb']\n",
      "Dania\t13\n",
      "\n",
      "Petya\toct\n",
      "\n",
      "Egor\t28\n",
      "\n"
     ]
    }
   ],
   "source": [
    "f = open('input.txt', encoding='utf-8')\n",
    "text = f.read()\n",
    "text = text.split()\n",
    "print(text)\n",
    "f.close()\n",
    "amount = int(text[0])\n",
    "names = text[1: amount+1]\n",
    "dates = text[amount+1: ]\n",
    "with open('output.txt', 'w') as w:\n",
    "    for x, y in zip(names, dates):\n",
    "        print(x + '\\t' + y + '\\n')"
   ]
  },
  {
   "cell_type": "code",
   "execution_count": 24,
   "id": "5bd0cbc0",
   "metadata": {},
   "outputs": [
    {
     "name": "stdout",
     "output_type": "stream",
     "text": [
      "['Dania', 'Petya', 'Egor']\n",
      "['13 oct', '28 mar', '26 feb']\n"
     ]
    }
   ],
   "source": [
    "f = open('input.txt', encoding='utf-8')\n",
    "text = f.read().splitlines()\n",
    "amount = int(text[0])\n",
    "names = text[1: amount+1]\n",
    "dates = text[amount+1: ]\n",
    "print(names)\n",
    "print(dates)\n",
    "with open('output.txt', 'w') as w:\n",
    "    for x, y in zip(names, dates):\n",
    "        print(x + '\\t' + y, file=w)"
   ]
  },
  {
   "cell_type": "markdown",
   "id": "6074eaae",
   "metadata": {},
   "source": [
    "Дан текстовый файл studygroup.txt, содержащий имена школьников 8 \"Б\". При помощи itertools.combinations вывести все способы назначения трёх дежурных. Гарантируется, что в 8 \"Б\" классе не менее 3 человек.\n",
    "Формат ввода: имена школьников перечислены в одной строке через пробелы в файле studygroup.txt.\n",
    "Выведите несколько строк вида: 1: student_A 2: student_B 3: student_C "
   ]
  },
  {
   "cell_type": "code",
   "execution_count": 71,
   "id": "7f6ebcb8",
   "metadata": {},
   "outputs": [
    {
     "name": "stdout",
     "output_type": "stream",
     "text": [
      "1: Dima 2: Petya 3: Sasha\n",
      "1: Dima 2: Petya 3: Misha\n",
      "1: Dima 2: Petya 3: Egor\n",
      "1: Dima 2: Sasha 3: Misha\n",
      "1: Dima 2: Sasha 3: Egor\n",
      "1: Dima 2: Misha 3: Egor\n",
      "1: Petya 2: Sasha 3: Misha\n",
      "1: Petya 2: Sasha 3: Egor\n",
      "1: Petya 2: Misha 3: Egor\n",
      "1: Sasha 2: Misha 3: Egor\n"
     ]
    }
   ],
   "source": [
    "import itertools as it\n",
    "with open('studygroup.txt') as f:\n",
    "    text = f.read().split()\n",
    "for x, y, z in it.combinations(text, 3):\n",
    "    print('1:', x, '2:', y, '3:', z)"
   ]
  }
 ],
 "metadata": {
  "kernelspec": {
   "display_name": "Python 3 (ipykernel)",
   "language": "python",
   "name": "python3"
  },
  "language_info": {
   "codemirror_mode": {
    "name": "ipython",
    "version": 3
   },
   "file_extension": ".py",
   "mimetype": "text/x-python",
   "name": "python",
   "nbconvert_exporter": "python",
   "pygments_lexer": "ipython3",
   "version": "3.9.7"
  }
 },
 "nbformat": 4,
 "nbformat_minor": 5
}
