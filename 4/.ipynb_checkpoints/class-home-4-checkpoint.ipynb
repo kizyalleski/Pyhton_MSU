{
 "cells": [
  {
   "cell_type": "code",
   "execution_count": 2,
   "id": "0b0ef2f8",
   "metadata": {},
   "outputs": [
    {
     "name": "stdout",
     "output_type": "stream",
     "text": [
      "10\n",
      "30\n",
      "60\n"
     ]
    }
   ],
   "source": [
    "s = 0\n",
    "for x in 10, 20, 30:\n",
    "    s += x\n",
    "    print(s)"
   ]
  },
  {
   "cell_type": "code",
   "execution_count": 4,
   "id": "51489285",
   "metadata": {},
   "outputs": [
    {
     "name": "stdout",
     "output_type": "stream",
     "text": [
      "10\n",
      "10\n",
      "20\n",
      "30\n",
      "30\n",
      "60\n",
      "40\n",
      "100\n",
      "50\n",
      "150\n"
     ]
    }
   ],
   "source": [
    "s = 0\n",
    "for x in 1, 2, 3, 4, 5:\n",
    "    s += int(input())\n",
    "    print(s)"
   ]
  },
  {
   "cell_type": "code",
   "execution_count": 6,
   "id": "c7521300",
   "metadata": {},
   "outputs": [
    {
     "name": "stdout",
     "output_type": "stream",
     "text": [
      "10\n",
      "20\n",
      "30\n",
      "40\n",
      "50\n",
      "60\n",
      "70\n",
      "80\n",
      "90\n",
      "100\n",
      "Далее идут числа больше 100\n"
     ]
    }
   ],
   "source": [
    "x = 0\n",
    "while x < 100:\n",
    "    x += 10\n",
    "    print(x)\n",
    "print('Далее идут числа больше 100')"
   ]
  },
  {
   "cell_type": "code",
   "execution_count": 8,
   "id": "a1f2e980",
   "metadata": {},
   "outputs": [
    {
     "name": "stdout",
     "output_type": "stream",
     "text": [
      "10\n",
      "20\n",
      "30\n",
      "40\n",
      "50\n",
      "60\n",
      "70\n",
      "80\n",
      "90\n"
     ]
    }
   ],
   "source": [
    "(start, stop, step) = (10, 100, 10)\n",
    "x = start\n",
    "while x < stop:\n",
    "    print(x)\n",
    "    x += step"
   ]
  },
  {
   "cell_type": "code",
   "execution_count": 9,
   "id": "f844abef",
   "metadata": {},
   "outputs": [
    {
     "name": "stdout",
     "output_type": "stream",
     "text": [
      "10\n",
      "20\n",
      "30\n",
      "40\n",
      "50\n",
      "60\n",
      "70\n",
      "80\n",
      "90\n"
     ]
    }
   ],
   "source": [
    "for x in range(10, 100, 10):\n",
    "    print(x)"
   ]
  },
  {
   "cell_type": "code",
   "execution_count": 11,
   "id": "0e6999d5",
   "metadata": {},
   "outputs": [
    {
     "name": "stdout",
     "output_type": "stream",
     "text": [
      "10 20 30 40 50 60 70 80 90\n"
     ]
    }
   ],
   "source": [
    "print(*range(10, 100, 10))"
   ]
  },
  {
   "cell_type": "code",
   "execution_count": 12,
   "id": "ab0deadd",
   "metadata": {},
   "outputs": [
    {
     "name": "stdout",
     "output_type": "stream",
     "text": [
      "2\n",
      "4\n",
      "8\n",
      "16\n",
      "32\n",
      "64\n"
     ]
    }
   ],
   "source": [
    "(start, stop, step) = (2, 100, 2)\n",
    "x = start\n",
    "while x < stop:\n",
    "    print(x)\n",
    "    x *= step"
   ]
  },
  {
   "cell_type": "markdown",
   "id": "d1f972c4",
   "metadata": {},
   "source": [
    "Расчет кредита:"
   ]
  },
  {
   "cell_type": "code",
   "execution_count": 37,
   "id": "2935be10",
   "metadata": {},
   "outputs": [
    {
     "name": "stdout",
     "output_type": "stream",
     "text": [
      "10000\n",
      "25\n",
      "500\n",
      "Кредит может быть выдан на следующих условиях:\n",
      "\n",
      "   month  remaining_debt         charges   debt decrease         payment\n",
      "------------------------------------------------------------------------\n",
      "       0        10000.00            0.00            0.00            0.00\n",
      "       1         9687.69          187.69          312.31          500.00\n",
      "       2         9369.52          181.83          318.17          500.00\n",
      "       3         9045.38          175.86          324.14          500.00\n",
      "       4         8715.16          169.78          330.22          500.00\n",
      "       5         8378.73          163.58          336.42          500.00\n",
      "       6         8036.00          157.26          342.74          500.00\n",
      "       7         7686.83          150.83          349.17          500.00\n",
      "       8         7331.10          144.28          355.72          500.00\n",
      "       9         6968.70          137.60          362.40          500.00\n",
      "      10         6599.50          130.80          369.20          500.00\n",
      "      11         6223.37          123.87          376.13          500.00\n",
      "      12         5840.18          116.81          383.19          500.00\n",
      "      13         5449.79          109.62          390.38          500.00\n",
      "      14         5052.08          102.29          397.71          500.00\n",
      "      15         4646.90           94.82          405.18          500.00\n",
      "      16         4234.12           87.22          412.78          500.00\n",
      "      17         3813.59           79.47          420.53          500.00\n",
      "      18         3385.17           71.58          428.42          500.00\n",
      "      19         2948.71           63.54          436.46          500.00\n",
      "      20         2504.06           55.35          444.65          500.00\n",
      "      21         2051.05           47.00          453.00          500.00\n",
      "      22         1589.55           38.50          461.50          500.00\n",
      "      23         1119.39           29.83          470.17          500.00\n",
      "      24          640.40           21.01          478.99          500.00\n",
      "      25          152.42           12.02          487.98          500.00\n",
      "      26            0.00            2.86          152.42          155.28\n",
      "Месяцев на погашение кредита: 26\n",
      "Полная стоимость кредита: 12655.276782632347\n"
     ]
    }
   ],
   "source": [
    "loan_amount = float(input()) # размер кредита\n",
    "loan_rate = float(input()) # годовая процентная ставка\n",
    "monthly_deduction_rate = (1 + loan_rate/100) ** (1/12) - 1 # месячное начисление процентов\n",
    "monthly_loan_payment = float(input()) # желаемый ежемесячный платеж\n",
    "\n",
    "if monthly_loan_payment <= loan_amount * monthly_deduction_rate: # если месячные проценты >= месячному платежу, то кредит не получится погасить \n",
    "    print('Кредит не может быть выдан. Ежемесячный платеж должен покрывать ежемесячные начисляемые проценты.')\n",
    "else:\n",
    "    print('Кредит может быть выдан на следующих условиях:')\n",
    "    remaining_debt = loan_amount # уменьшающаяся переменная (остаток долга). изначально равна сумме кредита\n",
    "    loan_months = 0 # увеличивающаяся переменная (месяц погашения кредита).\n",
    "    interest_charges = 0 # ежемесячно банк забирает проценты\n",
    "    payment = 0 # ежемесячный платеж (<= желаемому месячному платежу)\n",
    "    debt_decrease = 0 # уменьшение долга\n",
    "    overall_loan_price = 0 # полная стоимость кредита (сколько в сумме нужно будет отдать)\n",
    "    print()\n",
    "    labels = ('month'.rjust(8), 'remaining_debt'.rjust(15), 'charges'.rjust(15),\n",
    "              'debt decrease'.rjust(15), 'payment'.rjust(15)) # подготавливаем заголовки для таблицы\n",
    "    print(*labels)\n",
    "    print('-' * (8 + 15*4 + 4))\n",
    "    print(f\"{loan_months:8} {remaining_debt:15.2f} {interest_charges:15.2f}\",\n",
    "          f\"{debt_decrease:15.2f} {payment:15.2f}\")\n",
    "    while remaining_debt > 0.01:\n",
    "        loan_months += 1\n",
    "        interest_charges = remaining_debt * monthly_deduction_rate\n",
    "        payment = min(remaining_debt + interest_charges, monthly_loan_payment)\n",
    "        debt_decrease = payment - interest_charges\n",
    "        remaining_debt -= debt_decrease\n",
    "        overall_loan_price += payment\n",
    "        print(f\"{loan_months:8} {remaining_debt:15.2f} {interest_charges:15.2f}\",\n",
    "              f\"{debt_decrease:15.2f} {payment:15.2f}\")\n",
    "                \n",
    "    print('Месяцев на погашение кредита:', loan_months)\n",
    "    print('Полная стоимость кредита:', overall_loan_price)"
   ]
  },
  {
   "cell_type": "markdown",
   "id": "843a813f",
   "metadata": {},
   "source": [
    "csv таблица кредита:"
   ]
  },
  {
   "cell_type": "code",
   "execution_count": 38,
   "id": "7559691e",
   "metadata": {},
   "outputs": [
    {
     "name": "stdout",
     "output_type": "stream",
     "text": [
      "Введите размер кредита (желаемая сумма денежных средств):10000\n",
      "Введите процентную ставку по кредиту (процент годовых): 25\n",
      "Введите желаемый ежемесячный платёж: 500\n",
      "Кредит может быть выдан.\n",
      "Месяцев на погашение кредита: 26\n",
      "Полная стоимость кредита: 12655.28\n",
      "Таблица погашения в файле: loan_calculation.csv\n"
     ]
    }
   ],
   "source": [
    "loan_amount = float(input(\"Введите размер кредита (желаемая сумма денежных средств):\"))\n",
    "\n",
    "loan_rate = float(input(\"Введите процентную ставку по кредиту (процент годовых): \"))\n",
    "monthly_deduction_rate = (1 + loan_rate/100) ** (1/12) - 1\n",
    "\n",
    "monthly_loan_payment = float(input(\"Введите желаемый ежемесячный платёж: \"))\n",
    "if monthly_loan_payment < loan_amount * monthly_deduction_rate:\n",
    "    print(\"Кредит не может быть выдан. Размер платежа должен погашать начисляемые % по кредиту.\")\n",
    "else:\n",
    "    csv_filename = 'loan_calculation.csv'\n",
    "    with open(csv_filename, 'w') as csv_file:\n",
    "        remaining_debt = loan_amount\n",
    "        loan_months = interest_charges = payment = debt_decrease = overall_loan_price = 0\n",
    "        labels = (\"month\", \"remaining debt\", \"charges\",\n",
    "                  \"debt decrease\", \"payment\")\n",
    "        print(*labels, sep=', ', file=csv_file)\n",
    "        print(f\"{loan_months}, {remaining_debt:0.2f}, {interest_charges:0.2f}, \" +\n",
    "              f\"{debt_decrease:0.2f}, {payment:0.2f}\", file=csv_file)\n",
    "        while remaining_debt > 0.01:\n",
    "            loan_months += 1\n",
    "            interest_charges = remaining_debt * monthly_deduction_rate\n",
    "            if monthly_loan_payment > remaining_debt + interest_charges:\n",
    "                payment = remaining_debt + interest_charges\n",
    "            else:\n",
    "                payment = monthly_loan_payment\n",
    "            debt_decrease = payment - interest_charges\n",
    "            remaining_debt -= debt_decrease\n",
    "            overall_loan_price += payment\n",
    "\n",
    "            print(f\"{loan_months}, {remaining_debt:0.2f}, {interest_charges:0.2f}, \" +\n",
    "                  f\"{debt_decrease:0.2f}, {payment:0.2f}\", file=csv_file)\n",
    "\n",
    "    print(\"Кредит может быть выдан.\")\n",
    "    print(\"Месяцев на погашение кредита:\", loan_months)\n",
    "    print(\"Полная стоимость кредита:\", f\"{overall_loan_price:0.2f}\")\n",
    "    print(\"Таблица погашения в файле:\", csv_filename)"
   ]
  },
  {
   "cell_type": "code",
   "execution_count": null,
   "id": "e4a0c763",
   "metadata": {},
   "outputs": [],
   "source": []
  }
 ],
 "metadata": {
  "kernelspec": {
   "display_name": "Python 3 (ipykernel)",
   "language": "python",
   "name": "python3"
  },
  "language_info": {
   "codemirror_mode": {
    "name": "ipython",
    "version": 3
   },
   "file_extension": ".py",
   "mimetype": "text/x-python",
   "name": "python",
   "nbconvert_exporter": "python",
   "pygments_lexer": "ipython3",
   "version": "3.9.7"
  }
 },
 "nbformat": 4,
 "nbformat_minor": 5
}
