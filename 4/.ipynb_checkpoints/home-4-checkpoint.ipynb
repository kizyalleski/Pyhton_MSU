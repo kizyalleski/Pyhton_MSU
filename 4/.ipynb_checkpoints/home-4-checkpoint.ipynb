{
 "cells": [
  {
   "cell_type": "markdown",
   "id": "739d9ad0",
   "metadata": {},
   "source": [
    "Перевести число из двоичной системы счисления в десятичную.\n",
    "Формат ввода (стандартный ввод или input.txt):\n",
    "s — число в двоичном представлении, записанное при помощи цифр 0 и 1, длиной не более 8 символов.\n",
    "Формат вывода (стандартный вывод или output.txt):\n",
    "Число a (0≤a≤255) в десятичном представлении."
   ]
  },
  {
   "cell_type": "code",
   "execution_count": 37,
   "id": "d7958453",
   "metadata": {},
   "outputs": [
    {
     "name": "stdout",
     "output_type": "stream",
     "text": [
      "11111111\n",
      "255\n"
     ]
    }
   ],
   "source": [
    "x = input()\n",
    "x = '0' * (8 - len(x)) + x\n",
    "x1 = int(x[0])\n",
    "x2 = int(x[1])\n",
    "x3 = int(x[2])\n",
    "x4 = int(x[3])\n",
    "x5 = int(x[4])\n",
    "x6 = int(x[5])\n",
    "x7 = int(x[6])\n",
    "x8 = int(x[7])\n",
    "y = x1* 2**7 + x2* 2**6 + x3* 2**5 + x4* 2**4 + x5* 2**3 + x6* 2**2 + x7* 2**1 + x8* 2**0\n",
    "print(y)"
   ]
  },
  {
   "cell_type": "markdown",
   "id": "96d5e7f9",
   "metadata": {},
   "source": [
    "Другой вариант решения:"
   ]
  },
  {
   "cell_type": "code",
   "execution_count": 84,
   "id": "165f5269",
   "metadata": {},
   "outputs": [
    {
     "name": "stdout",
     "output_type": "stream",
     "text": [
      "11111111\n",
      "255\n"
     ]
    }
   ],
   "source": [
    "x = input()\n",
    "x = list('0' * (8 - len(x)) + x)\n",
    "\n",
    "z=0\n",
    "d=7\n",
    "\n",
    "for i in 0, 1, 2, 3, 4, 5, 6, 7:\n",
    "    y = int(x[i])* (2**d)\n",
    "    d -= 1\n",
    "    z += y\n",
    "print(z)"
   ]
  },
  {
   "cell_type": "markdown",
   "id": "dc3dc6fc",
   "metadata": {},
   "source": [
    "Вычислить при помощи класса Fraction библиотеки fractions значение следующего выражения:\n",
    "(b/a) + (b / (a+c)) - (c / (c-a)).\n",
    "Формат ввода (стандартный ввод):\n",
    "6 чисел, по 2 числа на строку (через пробел):\n",
    "Формат вывода (стандартный вывод):\n",
    "Численное выражение (b/a) + (b / (a+c)) - (c / (c-a)) с точностью до 4-х знаков после запятой."
   ]
  },
  {
   "cell_type": "code",
   "execution_count": 100,
   "id": "b70bd163",
   "metadata": {},
   "outputs": [
    {
     "name": "stdout",
     "output_type": "stream",
     "text": [
      "1 2\n",
      "2 1\n",
      "1 8\n",
      "7.5333\n"
     ]
    }
   ],
   "source": [
    "from fractions import Fraction\n",
    "\n",
    "a = input().split()\n",
    "a = Fraction(a[0] + '/' + a[1])\n",
    "b = input().split()\n",
    "b = Fraction(b[0] + '/' + b[1])\n",
    "c = input().split()\n",
    "c = Fraction(c[0] + '/' + c[1])\n",
    "\n",
    "y = float(b/a + b/(a+c) - c/(c-a))\n",
    "print(round(y, 4))"
   ]
  },
  {
   "cell_type": "markdown",
   "id": "c9cc460d",
   "metadata": {},
   "source": [
    "Вычислить сумму последовательности целых чисел, вводимых пользователем с клавиатуры, которая завершается нулём.\n",
    "Построчно вводятся целые числа. Последовательность заканчивается нулем.\n",
    "Вывести 2 числа через пробел: количество чисел (не считая 0) и сумму чисел."
   ]
  },
  {
   "cell_type": "code",
   "execution_count": 123,
   "id": "cefa0860",
   "metadata": {},
   "outputs": [
    {
     "name": "stdout",
     "output_type": "stream",
     "text": [
      "1\n",
      "2\n",
      "3\n",
      "0\n",
      "3 6\n"
     ]
    }
   ],
   "source": [
    "x = []\n",
    "while 0 not in x:\n",
    "    x.append(int(input()))\n",
    "if x[0] == 0:\n",
    "    print(0, 0)\n",
    "else:\n",
    "    print(len(x)-1, sum(x))"
   ]
  },
  {
   "cell_type": "markdown",
   "id": "c673fec6",
   "metadata": {},
   "source": [
    "Найти номер наименьшего члена геометрической прогрессии, превышающего заданное пользователем число a.\n",
    "Даны 3 числа, введенные через пробел (первый член прогрессии, знаменатель прогрессии, заданное число)."
   ]
  },
  {
   "cell_type": "code",
   "execution_count": 149,
   "id": "540abbbb",
   "metadata": {},
   "outputs": [
    {
     "name": "stdout",
     "output_type": "stream",
     "text": [
      "1 3 77\n",
      "5\n"
     ]
    }
   ],
   "source": [
    "b1, q, a = map(float, input().split())\n",
    "x = 1\n",
    "while b1 * q <= a:\n",
    "    b1*=q\n",
    "    x+=1\n",
    "print(x + 1)"
   ]
  },
  {
   "cell_type": "markdown",
   "id": "e8beb0b9",
   "metadata": {},
   "source": [
    "Создайте программу для расчёта банковского вклада на заданный срок. Вклад без ежемесячного пополнения, но с ежемесячным начислением процентов и капитализацией (начислением процентов на проценты). Результат сохраните в файле output.csv.\n",
    "Формат ввода:\n",
    "3 числа, введенные через пробел.\n",
    "Формат вывода:\n",
    "Таблица CSV, состоящая из 3-х столбцов с названиями: \"Месяц\", \"Сумма на вкладе\", \"Начисление\"; Необходимо заполнить таблицу соответствующими величинами с точностью до 2-х знаков после запятой."
   ]
  },
  {
   "cell_type": "code",
   "execution_count": 54,
   "id": "b029bc3d",
   "metadata": {},
   "outputs": [
    {
     "name": "stdout",
     "output_type": "stream",
     "text": [
      "10000 10 10\n"
     ]
    }
   ],
   "source": [
    "amount, period, rate = input().split()\n",
    "amount = int(amount)\n",
    "period = int(period)\n",
    "rate = float(rate)\n",
    "\n",
    "csv_filename = 'output.csv'\n",
    "labels = ('Месяц', 'Сумма на вкладе', 'Начисление')\n",
    "\n",
    "with open(csv_filename, 'w', encoding='utf-8') as csv_file:\n",
    "    print(*labels, sep=',', file = csv_file)\n",
    "    \n",
    "    rate_month = rate / 12.0 / 100.0\n",
    "    month = 0\n",
    "    current_amount = amount\n",
    "    \n",
    "    while month < period:\n",
    "        interests =  current_amount * rate_month\n",
    "        current_amount += interests\n",
    "        month += 1\n",
    "        print(f\"{month},{current_amount:.2f},{interests:.2f}\", file=csv_file)"
   ]
  },
  {
   "cell_type": "code",
   "execution_count": 39,
   "id": "1f12b121",
   "metadata": {},
   "outputs": [
    {
     "data": {
      "text/plain": [
       "float"
      ]
     },
     "execution_count": 39,
     "metadata": {},
     "output_type": "execute_result"
    }
   ],
   "source": [
    "\n"
   ]
  },
  {
   "cell_type": "code",
   "execution_count": 33,
   "id": "fdec52e0",
   "metadata": {},
   "outputs": [
    {
     "name": "stdout",
     "output_type": "stream",
     "text": [
      "100000 12 12\n"
     ]
    }
   ],
   "source": []
  },
  {
   "cell_type": "code",
   "execution_count": null,
   "id": "aa8a03bd",
   "metadata": {},
   "outputs": [],
   "source": []
  }
 ],
 "metadata": {
  "kernelspec": {
   "display_name": "Python 3 (ipykernel)",
   "language": "python",
   "name": "python3"
  },
  "language_info": {
   "codemirror_mode": {
    "name": "ipython",
    "version": 3
   },
   "file_extension": ".py",
   "mimetype": "text/x-python",
   "name": "python",
   "nbconvert_exporter": "python",
   "pygments_lexer": "ipython3",
   "version": "3.9.7"
  }
 },
 "nbformat": 4,
 "nbformat_minor": 5
}
