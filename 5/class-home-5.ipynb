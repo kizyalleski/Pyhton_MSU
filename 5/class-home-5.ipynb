{
 "cells": [
  {
   "cell_type": "code",
   "execution_count": 2,
   "id": "be29647c",
   "metadata": {},
   "outputs": [
    {
     "data": {
      "text/plain": [
       "['К', 'А', 'Л', 'Б', 'А', 'С', 'А']"
      ]
     },
     "execution_count": 2,
     "metadata": {},
     "output_type": "execute_result"
    }
   ],
   "source": [
    "a = list(\"КАЛБАСА\")\n",
    "a"
   ]
  },
  {
   "cell_type": "code",
   "execution_count": 3,
   "id": "bf45dd92",
   "metadata": {},
   "outputs": [
    {
     "data": {
      "text/plain": [
       "['К', 'О', 'Л', 'Б', 'А', 'С', 'А']"
      ]
     },
     "execution_count": 3,
     "metadata": {},
     "output_type": "execute_result"
    }
   ],
   "source": [
    "a[1] = 'О'\n",
    "a"
   ]
  },
  {
   "cell_type": "code",
   "execution_count": 5,
   "id": "358b7176",
   "metadata": {},
   "outputs": [
    {
     "name": "stdout",
     "output_type": "stream",
     "text": [
      "[1, 2, 3]\n",
      "[2, 3, 4]\n",
      "[4, 3, 2]\n"
     ]
    }
   ],
   "source": [
    "a = [1, 2, 3]\n",
    "print(a)\n",
    "for i in range(len(a)):\n",
    "    a[i] = a[i] + 1\n",
    "print(a)\n",
    "print(a[::-1])"
   ]
  },
  {
   "cell_type": "code",
   "execution_count": 7,
   "id": "72817b7a",
   "metadata": {},
   "outputs": [
    {
     "data": {
      "text/plain": [
       "[2, 3, 1, 1, 4]"
      ]
     },
     "execution_count": 7,
     "metadata": {},
     "output_type": "execute_result"
    }
   ],
   "source": [
    "a.insert(-1, 1)\n",
    "a"
   ]
  },
  {
   "cell_type": "code",
   "execution_count": 11,
   "id": "bbc50945",
   "metadata": {},
   "outputs": [
    {
     "name": "stdout",
     "output_type": "stream",
     "text": [
      "capital_words =['Я', 'МГУ', 'ВШЭ', 'МФТИ']\n",
      "numbers =['294']\n",
      "other_words =['набрал', 'балла', 'и', 'хотел', 'поступать', 'в', 'или']\n"
     ]
    }
   ],
   "source": [
    "s = \"Я набрал 294 балла, и хотел поступать в МГУ, ВШЭ или МФТИ.\".replace(',', '').replace('.', '')\n",
    "capital_words = []\n",
    "numbers = []\n",
    "other_words = []\n",
    "for word in s.split():\n",
    "    if word.isupper():\n",
    "        capital_words.append(word)\n",
    "    elif word.isnumeric():\n",
    "        numbers.append(word)\n",
    "    else:\n",
    "        other_words.append(word)\n",
    "print(f\"capital_words ={capital_words}\")\n",
    "print(f\"numbers ={numbers}\")\n",
    "print(f\"other_words ={other_words}\")"
   ]
  },
  {
   "cell_type": "code",
   "execution_count": 14,
   "id": "51522681",
   "metadata": {},
   "outputs": [
    {
     "name": "stdout",
     "output_type": "stream",
     "text": [
      "[1, 2, 3, 4, 5]\n",
      "[1, 2, 3, 4]\n",
      "4\n",
      "[1, 2, 3]\n"
     ]
    }
   ],
   "source": [
    "a = [1, 2, 3, 4, 5]\n",
    "print(a)\n",
    "del a[4]\n",
    "print(a)\n",
    "print(a.pop(3))\n",
    "print(a)"
   ]
  },
  {
   "cell_type": "code",
   "execution_count": null,
   "id": "b01e079b",
   "metadata": {},
   "outputs": [],
   "source": []
  }
 ],
 "metadata": {
  "kernelspec": {
   "display_name": "Python 3 (ipykernel)",
   "language": "python",
   "name": "python3"
  },
  "language_info": {
   "codemirror_mode": {
    "name": "ipython",
    "version": 3
   },
   "file_extension": ".py",
   "mimetype": "text/x-python",
   "name": "python",
   "nbconvert_exporter": "python",
   "pygments_lexer": "ipython3",
   "version": "3.9.7"
  }
 },
 "nbformat": 4,
 "nbformat_minor": 5
}
