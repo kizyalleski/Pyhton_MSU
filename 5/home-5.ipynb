{
 "cells": [
  {
   "cell_type": "markdown",
   "id": "8dc975a9",
   "metadata": {},
   "source": [
    "# 1"
   ]
  },
  {
   "cell_type": "markdown",
   "id": "832fb60c",
   "metadata": {},
   "source": [
    "Требуется создать две команды следующим образом: отсортировать всех ребят по убыванию веса, а затем 1-го, 3-го, 5-го и т.д. игроков отобрать в 1-ю команду, а оставшихся — во 2-ю команду. Вывести список команды №1 в первые 11 строк файла team.txt, а список команды №2 в последние 11 строк файла team.txt. В списках команд указывать и имена, и значения веса.\n",
    "Формат ввода:\n",
    "Текстовый файл weights.txt содержит в каждой строке пары ИМЯ ВЕС (через пробел). Например, John 57. Вес может быть вещественным числом.\n",
    "Формат вывода:\n",
    "Файл team.txt, содержащий строки исходного файла, отсортированные в том порядке, который требуется в данном задании."
   ]
  },
  {
   "cell_type": "code",
   "execution_count": 44,
   "id": "ddd122d5",
   "metadata": {},
   "outputs": [],
   "source": [
    "with open('weights.txt', encoding='utf-8') as file:\n",
    "    text = file.read().splitlines()\n",
    "\n",
    "sorted_text = sorted(text, reverse=True)\n",
    "new_text = sorted_text[::2] + sorted_text[1::2]\n",
    "with open('team.txt', 'w',encoding='utf-8') as new_file:\n",
    "    print('\\n'.join(new_text), file=new_file)"
   ]
  },
  {
   "cell_type": "markdown",
   "id": "b3732f9e",
   "metadata": {},
   "source": [
    "# 2"
   ]
  },
  {
   "cell_type": "markdown",
   "id": "f0befca3",
   "metadata": {},
   "source": [
    "Упорядочить строки по возрастанию количества слов в каждой строке (слова разделяются пробелами), а внутри каждой строки слова нужно упорядочить по количеству букв в них.\n",
    "Формат ввода:\n",
    "Список зашифрованных строк, записанных в файле poe_unpublished.txt\n",
    "Формат вывода:\n",
    "Список расшифрованных строк, записанных в файл poe_decode_attempt.txt"
   ]
  },
  {
   "cell_type": "code",
   "execution_count": null,
   "id": "1116b874",
   "metadata": {},
   "outputs": [],
   "source": [
    "Мое решение (почему-то WA):"
   ]
  },
  {
   "cell_type": "code",
   "execution_count": 14,
   "id": "08016858",
   "metadata": {},
   "outputs": [],
   "source": [
    "with open('poe_unpublished.txt', encoding='utf-8') as file:\n",
    "    text = file.read().splitlines()\n",
    "\n",
    "new_text = []\n",
    "for line in text:\n",
    "    new_text.append(line.rstrip().split())\n",
    "    \n",
    "sorted_lines = sorted(new_text, reverse=True)\n",
    "\n",
    "sorted_words = []\n",
    "for line in sorted_lines:\n",
    "    sorted_words.append(sorted(line, key=len))\n",
    "\n",
    "with open('poe_decode_attempt.txt', 'w', encoding='utf-8') as new_file:\n",
    "    for line in sorted_words:\n",
    "        print(' '.join(line), file=new_file)"
   ]
  },
  {
   "cell_type": "markdown",
   "id": "46c20345",
   "metadata": {},
   "source": [
    "Второй вариант решения (ОК):"
   ]
  },
  {
   "cell_type": "code",
   "execution_count": 34,
   "id": "19711c6f",
   "metadata": {},
   "outputs": [],
   "source": [
    "with open('poe_unpublished.txt', encoding='utf-8') as file:\n",
    "    text = file.readlines()\n",
    "\n",
    "new_text = []    \n",
    "for line in text:\n",
    "    sorted_lines = ' '.join(sorted(line.strip().split(), key=lambda x: len(x)))\n",
    "    new_text.append(sorted_lines)\n",
    "\n",
    "new_text = sorted(new_text, key=lambda x: len(x.split()))\n",
    "\n",
    "with open('poe_decode_attempt.txt', 'w') as new_file:\n",
    "    for line in new_text:\n",
    "        print(line, file=new_file)"
   ]
  },
  {
   "cell_type": "markdown",
   "id": "77d4b84a",
   "metadata": {},
   "source": [
    "# 3"
   ]
  },
  {
   "cell_type": "markdown",
   "id": "e837a437",
   "metadata": {},
   "source": [
    "Необходимо транспонировать таблицу, содержащую числа с плавающей точкой.\n",
    "Формат ввода:\n",
    "Ввод из файла med_research.txt, все значения в строках разделены пробелом. Количество строк в исходной матрице >= 2, количество столбцов в исходной матрице >= 2.\n",
    "Формат вывода:\n",
    "Вывод в файл output.txt."
   ]
  },
  {
   "cell_type": "code",
   "execution_count": 226,
   "id": "8d0f6a2b",
   "metadata": {},
   "outputs": [],
   "source": [
    "with open('med_research.txt', encoding='utf-8') as file:\n",
    "    data = file.readlines()\n",
    "\n",
    "matrix = []\n",
    "for i in range(len(data)):\n",
    "    matrix.append(data[i].split())\n",
    "    \n",
    "trans_matrix = [[0 for j in range(len(matrix))] for i in range(len(matrix[0]))]\n",
    "\n",
    "for i in range(len(matrix)):\n",
    "    for j in range(len(matrix[0])):\n",
    "        trans_matrix[j][i] = matrix[i][j]\n",
    "\n",
    "with open('output.txt', 'w', encoding='utf-8') as new_file:\n",
    "    for i in range(len(trans_matrix)):\n",
    "        print(' '.join(trans_matrix[i]), file=new_file)"
   ]
  },
  {
   "cell_type": "markdown",
   "id": "013bed08",
   "metadata": {},
   "source": [
    "# 4"
   ]
  },
  {
   "cell_type": "markdown",
   "id": "3bb7568f",
   "metadata": {},
   "source": [
    "Распределите строки из файла так, чтобы сначала шли строки А, затем - Б, отсортированные по длительности звонка. Столбцы во входных данных разделены знаком табуляции.\n",
    "Формат ввода:\n",
    "Строки, записанные в файл the_calls.txt в описанном в условии формате.\n",
    "Формат вывода:\n",
    "Вывод в файл calls.txt"
   ]
  },
  {
   "cell_type": "code",
   "execution_count": 184,
   "id": "fbf02e81",
   "metadata": {},
   "outputs": [],
   "source": [
    "with open('the_calls.txt', encoding='utf-8') as file:\n",
    "    table = file.readlines()\n",
    "\n",
    "A = []\n",
    "B = []\n",
    "\n",
    "for line in table:\n",
    "    split_line = line.split()\n",
    "    if split_line[2] == 'A':\n",
    "        A.append(split_line)\n",
    "    else:\n",
    "        B.append(split_line)\n",
    "\n",
    "A = sorted(A, key = lambda x: -int(x[1]))\n",
    "B = sorted(B, key = lambda x: -int(x[1]))\n",
    "\n",
    "with open('calls.txt', 'w', encoding='utf-8') as new_file:\n",
    "    for line in A:\n",
    "        print('\\t'.join(line), file=new_file)\n",
    "    for line in B:\n",
    "        print('\\t'.join(line), file=new_file)"
   ]
  }
 ],
 "metadata": {
  "kernelspec": {
   "display_name": "Python 3 (ipykernel)",
   "language": "python",
   "name": "python3"
  },
  "language_info": {
   "codemirror_mode": {
    "name": "ipython",
    "version": 3
   },
   "file_extension": ".py",
   "mimetype": "text/x-python",
   "name": "python",
   "nbconvert_exporter": "python",
   "pygments_lexer": "ipython3",
   "version": "3.9.7"
  }
 },
 "nbformat": 4,
 "nbformat_minor": 5
}
