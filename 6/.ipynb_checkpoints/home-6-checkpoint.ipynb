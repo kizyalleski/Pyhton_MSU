{
 "cells": [
  {
   "cell_type": "markdown",
   "id": "51ca187f",
   "metadata": {},
   "source": [
    "# 1"
   ]
  },
  {
   "cell_type": "markdown",
   "id": "1c36070a",
   "metadata": {},
   "source": [
    "Найти наиболее часто встречающаяся цифру в числе"
   ]
  },
  {
   "cell_type": "code",
   "execution_count": 57,
   "id": "2eadf77e",
   "metadata": {},
   "outputs": [
    {
     "name": "stdout",
     "output_type": "stream",
     "text": [
      "6473023332\n",
      "3\n"
     ]
    }
   ],
   "source": [
    "from collections import Counter\n",
    "\n",
    "a = input()\n",
    "a = [int(d) for d in str(a)]\n",
    "frequency = Counter(a)\n",
    "print(frequency.most_common()[0][0])"
   ]
  },
  {
   "cell_type": "markdown",
   "id": "84e2027d",
   "metadata": {},
   "source": [
    "# 2"
   ]
  },
  {
   "cell_type": "code",
   "execution_count": 46,
   "id": "de78cbb3",
   "metadata": {},
   "outputs": [
    {
     "data": {
      "text/plain": [
       "5"
      ]
     },
     "execution_count": 46,
     "metadata": {},
     "output_type": "execute_result"
    }
   ],
   "source": [
    "Вывести через строчку названия всех видов животных в порядке увеличения длины названия"
   ]
  },
  {
   "cell_type": "code",
   "execution_count": 78,
   "id": "34ad6481",
   "metadata": {},
   "outputs": [
    {
     "name": "stdout",
     "output_type": "stream",
     "text": [
      "leopard\n",
      "orangutan\n"
     ]
    }
   ],
   "source": [
    "with open('input.txt', encoding='utf-8') as file:\n",
    "    text = file.read().splitlines()\n",
    "    \n",
    "animals = set()\n",
    "\n",
    "for i in range(len(text)):\n",
    "    animals.add(text[i].split()[1])\n",
    "    \n",
    "animals = sorted(animals, key=len)\n",
    "\n",
    "for i in animals:\n",
    "    print(i)"
   ]
  },
  {
   "cell_type": "markdown",
   "id": "323481c4",
   "metadata": {},
   "source": [
    "# 3"
   ]
  },
  {
   "cell_type": "markdown",
   "id": "066ae453",
   "metadata": {},
   "source": [
    "Вывести через строчку названия всех животных, которые могут давать потомство, в порядке увеличения длины названия:"
   ]
  },
  {
   "cell_type": "code",
   "execution_count": 114,
   "id": "b16662a9",
   "metadata": {},
   "outputs": [
    {
     "name": "stdout",
     "output_type": "stream",
     "text": [
      "cat\n",
      "dolphin\n"
     ]
    }
   ],
   "source": [
    "with open('input.txt', encoding='utf-8') as file:\n",
    "    text = [line.split() for line in file.read().splitlines()]\n",
    "\n",
    "male = set()\n",
    "female = set()\n",
    "\n",
    "for line in text:\n",
    "    if line[2] == 'male':\n",
    "        male.add(line[1])\n",
    "    else:\n",
    "        female.add(line[1])\n",
    "        \n",
    "possible_couples = sorted(male.intersection(female), key = len)\n",
    "\n",
    "if len(possible_couples) > 0:\n",
    "    for couple in possible_couples:\n",
    "        print(couple)\n",
    "else:\n",
    "    print(0)"
   ]
  },
  {
   "cell_type": "markdown",
   "id": "7a2fcb92",
   "metadata": {},
   "source": [
    "# 4"
   ]
  },
  {
   "cell_type": "markdown",
   "id": "c65a29da",
   "metadata": {},
   "source": [
    "Вывести через строчку количество животных для каждого вида в порядке убывания:"
   ]
  },
  {
   "cell_type": "code",
   "execution_count": 150,
   "id": "24f7e277",
   "metadata": {},
   "outputs": [
    {
     "name": "stdout",
     "output_type": "stream",
     "text": [
      "dolphin - 3\n",
      "cat - 2\n",
      "dog - 1\n"
     ]
    }
   ],
   "source": [
    "from collections import Counter\n",
    "\n",
    "with open('input.txt', encoding='utf-8') as file:\n",
    "    text = [line.split() for line in file.read().splitlines()]\n",
    "\n",
    "animals = []\n",
    "\n",
    "for line in text:\n",
    "    animals.append(line[1])\n",
    "    \n",
    "amount = Counter(animals).most_common()\n",
    "\n",
    "for item in amount:\n",
    "    print(item[0], '-', item[1])"
   ]
  }
 ],
 "metadata": {
  "kernelspec": {
   "display_name": "Python 3 (ipykernel)",
   "language": "python",
   "name": "python3"
  },
  "language_info": {
   "codemirror_mode": {
    "name": "ipython",
    "version": 3
   },
   "file_extension": ".py",
   "mimetype": "text/x-python",
   "name": "python",
   "nbconvert_exporter": "python",
   "pygments_lexer": "ipython3",
   "version": "3.9.7"
  }
 },
 "nbformat": 4,
 "nbformat_minor": 5
}
