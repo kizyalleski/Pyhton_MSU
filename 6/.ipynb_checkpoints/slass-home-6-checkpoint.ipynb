{
 "cells": [
  {
   "cell_type": "code",
   "execution_count": 2,
   "id": "fd8fc6c6",
   "metadata": {},
   "outputs": [
    {
     "name": "stdout",
     "output_type": "stream",
     "text": [
      "Help on built-in function count:\n",
      "\n",
      "count(...) method of builtins.str instance\n",
      "    S.count(sub[, start[, end]]) -> int\n",
      "    \n",
      "    Return the number of non-overlapping occurrences of substring sub in\n",
      "    string S[start:end].  Optional arguments start and end are\n",
      "    interpreted as in slice notation.\n",
      "\n"
     ]
    }
   ],
   "source": [
    "help(''.count)"
   ]
  },
  {
   "cell_type": "code",
   "execution_count": 3,
   "id": "87982069",
   "metadata": {},
   "outputs": [],
   "source": [
    "import string"
   ]
  },
  {
   "cell_type": "code",
   "execution_count": 5,
   "id": "2873f441",
   "metadata": {},
   "outputs": [
    {
     "name": "stdout",
     "output_type": "stream",
     "text": [
      "abcdefghijklmnopqrstuvwxyz\n"
     ]
    }
   ],
   "source": [
    "print(string.ascii_lowercase)"
   ]
  },
  {
   "cell_type": "code",
   "execution_count": 10,
   "id": "84e4ab65",
   "metadata": {},
   "outputs": [],
   "source": [
    "a = 'abbcccdddd'\n",
    "b = []\n",
    "for letter in string.ascii_lowercase:\n",
    "    letter_frecuency = a.count(letter)\n",
    "    b.append(letter_frecuency)"
   ]
  },
  {
   "cell_type": "code",
   "execution_count": 11,
   "id": "e7a69d20",
   "metadata": {},
   "outputs": [
    {
     "data": {
      "text/plain": [
       "[1, 2, 3, 4, 0, 0, 0, 0, 0, 0, 0, 0, 0, 0, 0, 0, 0, 0, 0, 0, 0, 0, 0, 0, 0, 0]"
      ]
     },
     "execution_count": 11,
     "metadata": {},
     "output_type": "execute_result"
    }
   ],
   "source": [
    "b"
   ]
  },
  {
   "cell_type": "code",
   "execution_count": 13,
   "id": "f85d3049",
   "metadata": {},
   "outputs": [
    {
     "name": "stdout",
     "output_type": "stream",
     "text": [
      "a 1\n",
      "b 2\n",
      "c 3\n",
      "d 4\n",
      "e 0\n",
      "f 0\n",
      "g 0\n",
      "h 0\n",
      "i 0\n",
      "j 0\n",
      "k 0\n",
      "l 0\n",
      "m 0\n",
      "n 0\n",
      "o 0\n",
      "p 0\n",
      "q 0\n",
      "r 0\n",
      "s 0\n",
      "t 0\n",
      "u 0\n",
      "v 0\n",
      "w 0\n",
      "x 0\n",
      "y 0\n",
      "z 0\n"
     ]
    }
   ],
   "source": [
    "for letter, frecuency in zip(string.ascii_lowercase, b):\n",
    "    print(letter, frecuency)"
   ]
  },
  {
   "cell_type": "code",
   "execution_count": 7,
   "id": "8bb604cb",
   "metadata": {},
   "outputs": [
    {
     "name": "stdout",
     "output_type": "stream",
     "text": [
      "e 90345\n",
      "t 62933\n",
      "a 55571\n",
      "o 52878\n",
      "n 48331\n",
      "i 45289\n",
      "h 43223\n",
      "s 42759\n",
      "r 40948\n",
      "d 30515\n",
      "l 30003\n",
      "u 19611\n",
      "c 17456\n",
      "w 16574\n",
      "m 16336\n",
      "f 15075\n",
      "y 13485\n",
      "g 13180\n",
      "p 12076\n",
      "b 10287\n",
      "v 6421\n",
      "k 6102\n",
      "x 1182\n",
      "j 597\n",
      "q 563\n",
      "z 539\n"
     ]
    }
   ],
   "source": [
    "import string\n",
    "\n",
    "with open('orwell_1984.txt') as file:\n",
    "    text = file.read()\n",
    "    \n",
    "letter_frecuencies = [text.count(letter) for letter in string.ascii_lowercase]\n",
    "\n",
    "sorted_letters_and_frecuencies = sorted(zip(string.ascii_lowercase, letter_frecuencies),\n",
    "                                       key = lambda pair: pair[1], reverse=True)\n",
    "\n",
    "for letter, frecuency in sorted_letters_and_frecuencies:\n",
    "    print(letter, frecuency)"
   ]
  },
  {
   "cell_type": "code",
   "execution_count": null,
   "id": "84b2784c",
   "metadata": {},
   "outputs": [],
   "source": [
    "def letter_index(letter):\n",
    "    return ord(letter.lower()) - ord('a')\n",
    "\n",
    "import string\n",
    "\n",
    "letters_frequencies = [0] * 26\n",
    "\n",
    "with open(\"big_one.txt\") as file:\n",
    "    symbol = file.read(1)\n",
    "    while symbol:\n",
    "        if 'a' <= symbol.lower() <= 'z':  # считываем частоты только для латиницы - остальное игнорируем\n",
    "            index = letter_index(symbol)\n",
    "            letters_frequencies[index] += 1\n",
    "        symbol = file.read(1)\n",
    "\n",
    "# представление результата подсчёта:\n",
    "sorted_letters_and_frequencies = sorted(zip(string.ascii_lowercase, letters_frequencies),\n",
    "                                        key=lambda pair: pair[1], reverse=True)\n",
    "for letter, frequency in sorted_letters_and_frequencies:\n",
    "    print(letter, frequency)"
   ]
  },
  {
   "cell_type": "code",
   "execution_count": 18,
   "id": "3f53113c",
   "metadata": {},
   "outputs": [
    {
     "name": "stdout",
     "output_type": "stream",
     "text": [
      "{'слон', 'муха', 'лебедь', 'щука', 'орангутан', 'гусь', 'мартышка', 'жаба'}\n"
     ]
    }
   ],
   "source": [
    "with open('animals.txt', encoding='utf-8') as file:\n",
    "    animals = set(line.strip() for line in file)\n",
    "    print(animals)"
   ]
  },
  {
   "cell_type": "code",
   "execution_count": 30,
   "id": "80451890",
   "metadata": {},
   "outputs": [],
   "source": [
    "candidates_votes = {}  # пустой словарь для пар (кандидат, количество голосов за него)\n",
    "with open(\"students.txt\", encoding=\"utf8\") as file:\n",
    "    students_set = {line.strip() for line in file}\n",
    "with open(\"elections.txt\", encoding=\"utf8\") as file:\n",
    "    for line in file:\n",
    "        candidate = line.strip()\n",
    "        if candidate not in students_set:\n",
    "            continue  # пропускаем такую фамилию, прыгаем на следующую итерацию цикла for\n",
    "        if candidate not in candidates_votes:\n",
    "            candidates_votes[candidate] = 1  # Это первый голос, поданный за этого студента.\n",
    "        else:\n",
    "            candidates_votes[candidate] += 1 "
   ]
  },
  {
   "cell_type": "code",
   "execution_count": 43,
   "id": "f6f71812",
   "metadata": {},
   "outputs": [],
   "source": [
    "from collections import Counter\n",
    "\n",
    "candidates_votes = Counter()\n",
    "\n",
    "with open(\"students.txt\", encoding=\"utf8\") as file:\n",
    "    students_set = {line.strip() for line in file}\n",
    "    \n",
    "with open(\"elections.txt\", encoding=\"utf8\") as file:\n",
    "    for line in file:\n",
    "        candidate = line.strip()\n",
    "        if candidate in students_set:\n",
    "            candidates_votes[candidate] += 1\n",
    "            \n",
    "rating = candidates_votes.most_common()"
   ]
  },
  {
   "cell_type": "code",
   "execution_count": 47,
   "id": "8252ea18",
   "metadata": {},
   "outputs": [
    {
     "data": {
      "text/plain": [
       "'Свантесон'"
      ]
     },
     "execution_count": 47,
     "metadata": {},
     "output_type": "execute_result"
    }
   ],
   "source": []
  },
  {
   "cell_type": "code",
   "execution_count": null,
   "id": "52c68526",
   "metadata": {},
   "outputs": [],
   "source": []
  }
 ],
 "metadata": {
  "kernelspec": {
   "display_name": "Python 3 (ipykernel)",
   "language": "python",
   "name": "python3"
  },
  "language_info": {
   "codemirror_mode": {
    "name": "ipython",
    "version": 3
   },
   "file_extension": ".py",
   "mimetype": "text/x-python",
   "name": "python",
   "nbconvert_exporter": "python",
   "pygments_lexer": "ipython3",
   "version": "3.9.7"
  }
 },
 "nbformat": 4,
 "nbformat_minor": 5
}
