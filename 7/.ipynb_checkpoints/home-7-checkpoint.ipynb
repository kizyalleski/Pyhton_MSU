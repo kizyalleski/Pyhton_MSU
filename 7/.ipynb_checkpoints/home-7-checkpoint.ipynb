{
 "cells": [
  {
   "cell_type": "code",
   "execution_count": 1,
   "id": "724bf9a2",
   "metadata": {},
   "outputs": [
    {
     "data": {
      "text/plain": [
       "1e-12"
      ]
     },
     "execution_count": 1,
     "metadata": {},
     "output_type": "execute_result"
    }
   ],
   "source": [
    "1e-12 + 1e-55"
   ]
  },
  {
   "cell_type": "code",
   "execution_count": null,
   "id": "35189e44",
   "metadata": {},
   "outputs": [],
   "source": [
    "import numpy as np\n",
    "f = open('input.txt')\n",
    "for line in f:\n",
    "n=line.split()\n",
    "f.close()\n",
    "n = np.array(n)\n",
    "print(np.searchsorted(n, 1415))"
   ]
  },
  {
   "cell_type": "code",
   "execution_count": 17,
   "id": "cb1813f6",
   "metadata": {},
   "outputs": [
    {
     "name": "stdout",
     "output_type": "stream",
     "text": [
      "1\n"
     ]
    }
   ],
   "source": [
    "import numpy as np\n",
    "f = open('input.txt')\n",
    "start, stop, days = [int(i) for i in f]\n",
    "profit = np.linspace(start, stop, days)\n",
    "profit[::7] = profit[::7]/3\n",
    "profit[4::7] = profit[4::7]*2\n",
    "with open('output.txt', 'w') as csv_file:\n",
    "for i in profit:\n",
    "print(f'{i:0.2f}', file=csv_file)"
   ]
  },
  {
   "cell_type": "code",
   "execution_count": 16,
   "id": "8459d733",
   "metadata": {},
   "outputs": [
    {
     "data": {
      "text/plain": [
       "1"
      ]
     },
     "execution_count": 16,
     "metadata": {},
     "output_type": "execute_result"
    }
   ],
   "source": [
    "import numpy as np\n",
    "with open('input.txt', encoding='utf-8') as file:\n",
    "    "
   ]
  },
  {
   "cell_type": "code",
   "execution_count": 13,
   "id": "c3564399",
   "metadata": {},
   "outputs": [
    {
     "data": {
      "text/plain": [
       "array(['1414', '1415', '1416'], dtype='<U4')"
      ]
     },
     "execution_count": 13,
     "metadata": {},
     "output_type": "execute_result"
    }
   ],
   "source": []
  },
  {
   "cell_type": "code",
   "execution_count": 9,
   "id": "a516216a",
   "metadata": {},
   "outputs": [
    {
     "data": {
      "text/plain": [
       "['1414', '1415', '1416']"
      ]
     },
     "execution_count": 9,
     "metadata": {},
     "output_type": "execute_result"
    }
   ],
   "source": []
  },
  {
   "cell_type": "code",
   "execution_count": null,
   "id": "d28da7cc",
   "metadata": {},
   "outputs": [],
   "source": []
  }
 ],
 "metadata": {
  "kernelspec": {
   "display_name": "Python 3 (ipykernel)",
   "language": "python",
   "name": "python3"
  },
  "language_info": {
   "codemirror_mode": {
    "name": "ipython",
    "version": 3
   },
   "file_extension": ".py",
   "mimetype": "text/x-python",
   "name": "python",
   "nbconvert_exporter": "python",
   "pygments_lexer": "ipython3",
   "version": "3.9.7"
  }
 },
 "nbformat": 4,
 "nbformat_minor": 5
}
