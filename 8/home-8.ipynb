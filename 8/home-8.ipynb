{
 "cells": [
  {
   "cell_type": "code",
   "execution_count": 17,
   "id": "2649f69b",
   "metadata": {},
   "outputs": [],
   "source": [
    "import numpy as np\n",
    "with open ('input.txt', encoding='utf-8') as file:\n",
    "    numbers = file.read().split()\n",
    "numbers = np.array([int(number) for number in numbers])\n",
    "with open('output.txt', 'w') as new_file:\n",
    "    print(\"{:.2f}\".format(np.median(numbers)), \"{:.2f}\".format(np.mean(numbers)), \"{:.2f}\".format(np.std(numbers)), file=new_file)"
   ]
  },
  {
   "cell_type": "code",
   "execution_count": 72,
   "id": "aa6bc77d",
   "metadata": {},
   "outputs": [
    {
     "ename": "IndentationError",
     "evalue": "expected an indented block (Temp/ipykernel_23524/2558365540.py, line 5)",
     "output_type": "error",
     "traceback": [
      "\u001b[1;36m  File \u001b[1;32m\"C:\\Users\\Maxim\\AppData\\Local\\Temp/ipykernel_23524/2558365540.py\"\u001b[1;36m, line \u001b[1;32m5\u001b[0m\n\u001b[1;33m    data.append([int(i) for i in line.split(',')])\u001b[0m\n\u001b[1;37m    ^\u001b[0m\n\u001b[1;31mIndentationError\u001b[0m\u001b[1;31m:\u001b[0m expected an indented block\n"
     ]
    }
   ],
   "source": [
    "import numpy as np\n",
    "f = open('input.csv')\n",
    "data = []\n",
    "for line in f:\n",
    "data.append([int(i) for i in line.split(',')])\n",
    "data = np.array(data)\n",
    "indx = np.array([data[:, 0:1].sum(), data[:, 1:2].sum(), data[:, 2:.sum()])\n",
    "print(np.argmax(indx)+1)"
   ]
  },
  {
   "cell_type": "code",
   "execution_count": 88,
   "id": "954261bf",
   "metadata": {},
   "outputs": [
    {
     "ename": "IndentationError",
     "evalue": "expected an indented block (Temp/ipykernel_23524/3875972534.py, line 5)",
     "output_type": "error",
     "traceback": [
      "\u001b[1;36m  File \u001b[1;32m\"C:\\Users\\Maxim\\AppData\\Local\\Temp/ipykernel_23524/3875972534.py\"\u001b[1;36m, line \u001b[1;32m5\u001b[0m\n\u001b[1;33m    data.append([int(i) for i in line.split(',')])\u001b[0m\n\u001b[1;37m    ^\u001b[0m\n\u001b[1;31mIndentationError\u001b[0m\u001b[1;31m:\u001b[0m expected an indented block\n"
     ]
    }
   ],
   "source": [
    "import numpy as np\n",
    "f = open('input.csv')\n",
    "data = []\n",
    "for line in f:\n",
    "data.append([int(i) for i in line.split(',')])\n",
    "data = np.array(data)\n",
    "kol = [np.std(np.array(i)) for i in data]\n",
    "kol = np.sort(kol)\n",
    "if kol[len(kol)//2] <= 4:\n",
    "    print(1)\n",
    "else:\n",
    "    print(2)"
   ]
  },
  {
   "cell_type": "code",
   "execution_count": 89,
   "id": "106339b7",
   "metadata": {},
   "outputs": [
    {
     "name": "stdout",
     "output_type": "stream",
     "text": [
      "1\n"
     ]
    }
   ],
   "source": [
    "import numpy as np\n",
    "file = open('input.csv')\n",
    "members = []\n",
    "for line in file:\n",
    "    members.append([int(i) for i in line.split(',')])\n",
    "members = np.array(members)\n",
    "numb = [np.std(np.array(i)) for i in members]\n",
    "numb = np.sort(numb)\n",
    "if numb[len(numb)//2] <= 4:\n",
    "    print(1)\n",
    "else:\n",
    "    print(2)"
   ]
  },
  {
   "cell_type": "code",
   "execution_count": 101,
   "id": "5cb27387",
   "metadata": {},
   "outputs": [],
   "source": [
    "import numpy as np\n",
    "file = open('input.csv')\n",
    "text = []\n",
    "for l in file:\n",
    "    l = l.strip()\n",
    "text.append([float(i) for i in l.split(',')])\n",
    "text = np.array(text)\n",
    "text[0::2, 1::2] = text[0::2, 1::2] / 2\n",
    "text[1::2, 0::2] = text[1::2, 0::2] / 2\n",
    "np.savetxt('output.csv', text, fmt=\"%g\", delimiter = ',')"
   ]
  },
  {
   "cell_type": "code",
   "execution_count": 100,
   "id": "1a7c503c",
   "metadata": {},
   "outputs": [],
   "source": [
    "import numpy as np\n",
    "\n",
    "text = []\n",
    "\n",
    "with open('input.csv') as file:\n",
    "    for line in file:\n",
    "        line = line.strip()\n",
    "        \n",
    "text.append([float(i) for i in line.split(',')])\n",
    "text = np.array(text)\n",
    "\n",
    "text[0::2, 1::2] = text[0::2, 1::2] / 2\n",
    "text[1::2, 0::2] = text[1::2, 0::2] / 2\n",
    "\n",
    "np.savetxt('output.csv', text, fmt=\"%g\", delimiter = ',')"
   ]
  },
  {
   "cell_type": "code",
   "execution_count": 99,
   "id": "d9c36e98",
   "metadata": {},
   "outputs": [
    {
     "ename": "IndentationError",
     "evalue": "expected an indented block (Temp/ipykernel_23524/2443794077.py, line 5)",
     "output_type": "error",
     "traceback": [
      "\u001b[1;36m  File \u001b[1;32m\"C:\\Users\\Maxim\\AppData\\Local\\Temp/ipykernel_23524/2443794077.py\"\u001b[1;36m, line \u001b[1;32m5\u001b[0m\n\u001b[1;33m    line = line.strip()\u001b[0m\n\u001b[1;37m    ^\u001b[0m\n\u001b[1;31mIndentationError\u001b[0m\u001b[1;31m:\u001b[0m expected an indented block\n"
     ]
    }
   ],
   "source": [
    "import numpy as np\n",
    "f = open('input.csv')\n",
    "data = []\n",
    "for line in f:\n",
    "line = line.strip()\n",
    "data.append([int(i) for i in line.split(',')])\n",
    "data = np.array(data)\n",
    "for i in range(30):\n",
    "data[0:1, i:(i+1)] = int(np.mean(data[:, i:(i+1)]) * 1.5)\n",
    "np.savetxt('output.csv', data, fmt=\"%g\", delimiter = ',')"
   ]
  },
  {
   "cell_type": "code",
   "execution_count": 93,
   "id": "ce23c8e0",
   "metadata": {},
   "outputs": [
    {
     "data": {
      "text/plain": [
       "[[1.9, 3.4, 2.5, 7.4, 6.2, 0.3, 3.1, 4.2, 5.1, 3.2, 0.7, 5.0]]"
      ]
     },
     "execution_count": 93,
     "metadata": {},
     "output_type": "execute_result"
    }
   ],
   "source": [
    "text"
   ]
  },
  {
   "cell_type": "code",
   "execution_count": 98,
   "id": "cc6ea238",
   "metadata": {},
   "outputs": [
    {
     "ename": "IndentationError",
     "evalue": "expected an indented block (Temp/ipykernel_23524/1634539693.py, line 9)",
     "output_type": "error",
     "traceback": [
      "\u001b[1;36m  File \u001b[1;32m\"C:\\Users\\Maxim\\AppData\\Local\\Temp/ipykernel_23524/1634539693.py\"\u001b[1;36m, line \u001b[1;32m9\u001b[0m\n\u001b[1;33m    data[0:1, i:(i+1)] = int(np.mean(data[:, i:(i+1)]) * 1.5)\u001b[0m\n\u001b[1;37m    ^\u001b[0m\n\u001b[1;31mIndentationError\u001b[0m\u001b[1;31m:\u001b[0m expected an indented block\n"
     ]
    }
   ],
   "source": [
    "import numpy as np\n",
    "f = open('input.csv')\n",
    "data = []\n",
    "for line in f:\n",
    "    line = line.strip()\n",
    "data.append([int(i) for i in line.split(',')])\n",
    "data = np.array(data)\n",
    "for i in range(30):\n",
    "data[0:1, i:(i+1)] = int(np.mean(data[:, i:(i+1)]) * 1.5)\n",
    "np.savetxt('output.csv', data, fmt=\"%g\", delimiter = ',')"
   ]
  },
  {
   "cell_type": "code",
   "execution_count": null,
   "id": "260c52e4",
   "metadata": {},
   "outputs": [],
   "source": []
  }
 ],
 "metadata": {
  "kernelspec": {
   "display_name": "Python 3 (ipykernel)",
   "language": "python",
   "name": "python3"
  },
  "language_info": {
   "codemirror_mode": {
    "name": "ipython",
    "version": 3
   },
   "file_extension": ".py",
   "mimetype": "text/x-python",
   "name": "python",
   "nbconvert_exporter": "python",
   "pygments_lexer": "ipython3",
   "version": "3.9.7"
  }
 },
 "nbformat": 4,
 "nbformat_minor": 5
}
